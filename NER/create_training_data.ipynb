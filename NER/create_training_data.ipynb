{
 "cells": [
  {
   "cell_type": "code",
   "execution_count": null,
   "metadata": {},
   "outputs": [],
   "source": [
    "import json\n",
    "from spacy.tokens import DocBin\n",
    "import spacy\n",
    "import json\n",
    "from tqdm import tqdm\n",
    "import random\n",
    "\n",
    "\n",
    "with open('annotations.json','r') as f:\n",
    "  data = json.load(f)\n",
    "\n",
    "train_data = data['annotations'][:50]\n",
    "val_data = data['annotations'][50:-1]"
   ]
  },
  {
   "cell_type": "code",
   "execution_count": null,
   "metadata": {},
   "outputs": [],
   "source": [
    "nlp = spacy.blank('en')\n",
    "\n",
    "\n",
    "def create_training(TRAIN_DATA):\n",
    "  db = DocBin()\n",
    "\n",
    "  for text,annot in tqdm(TRAIN_DATA):\n",
    "    doc = nlp.make_doc(text)\n",
    "\n",
    "    ents = []\n",
    "\n",
    "    for start,end,label in annot['entities']:\n",
    "      span = doc.char_span(start,end, label=label, alignment_mode='contract')\n",
    "\n",
    "\n",
    "      if span is None:\n",
    "        print('Skipping Entity')\n",
    "\n",
    "      else:\n",
    "        ents.append(span)\n",
    "\n",
    "    doc.ents = ents\n",
    "    db.add(doc)\n",
    "\n",
    "  return db"
   ]
  },
  {
   "cell_type": "code",
   "execution_count": null,
   "metadata": {},
   "outputs": [],
   "source": [
    "db = create_training(train_data)\n",
    "db.to_disk('mycampaign_planning_NER_train.spacy')\n",
    "\n",
    "db = create_training(val_data)\n",
    "db.to_disk('mycampaign_planning_NER_test.spacy')"
   ]
  }
 ],
 "metadata": {
  "kernelspec": {
   "display_name": "base",
   "language": "python",
   "name": "python3"
  },
  "language_info": {
   "codemirror_mode": {
    "name": "ipython",
    "version": 3
   },
   "file_extension": ".py",
   "mimetype": "text/x-python",
   "name": "python",
   "nbconvert_exporter": "python",
   "pygments_lexer": "ipython3",
   "version": "3.9.12"
  },
  "orig_nbformat": 4,
  "vscode": {
   "interpreter": {
    "hash": "40d3a090f54c6569ab1632332b64b2c03c39dcf918b08424e98f38b5ae0af88f"
   }
  }
 },
 "nbformat": 4,
 "nbformat_minor": 2
}
