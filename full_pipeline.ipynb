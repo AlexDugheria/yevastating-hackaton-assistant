{
 "cells": [
  {
   "cell_type": "code",
   "execution_count": 38,
   "metadata": {},
   "outputs": [],
   "source": [
    "import random\n",
    "import numpy as np\n",
    "import pandas as pd\n",
    "from sklearn.model_selection import train_test_split\n",
    "from sklearn.naive_bayes import MultinomialNB\n",
    "from sklearn.pipeline import Pipeline\n",
    "from sklearn.feature_extraction.text import TfidfTransformer\n",
    "from sklearn.feature_extraction.text import CountVectorizer, TfidfVectorizer\n",
    "from sklearn.metrics import classification_report\n",
    "from sklearn.metrics import accuracy_score\n",
    "import spacy\n",
    "import joblib\n",
    "import pickle"
   ]
  },
  {
   "attachments": {},
   "cell_type": "markdown",
   "metadata": {},
   "source": [
    "### Define data (LOAD AND CREATE)"
   ]
  },
  {
   "cell_type": "code",
   "execution_count": 27,
   "metadata": {},
   "outputs": [
    {
     "name": "stdout",
     "output_type": "stream",
     "text": [
      "<class 'pandas.core.frame.DataFrame'>\n",
      "Int64Index: 190 entries, 0 to 189\n",
      "Data columns (total 3 columns):\n",
      " #   Column   Non-Null Count  Dtype \n",
      "---  ------   --------------  ----- \n",
      " 0   command  190 non-null    object\n",
      " 1   context  190 non-null    int64 \n",
      " 2   action   190 non-null    int64 \n",
      "dtypes: int64(2), object(1)\n",
      "memory usage: 5.9+ KB\n"
     ]
    }
   ],
   "source": [
    "my_tags = ['mycampaign-main_page',\n",
    "           'mycampaign-mediamix',\n",
    "           'mycampaign-planning',\n",
    "           'mycampaign-trafficking-adserver',\n",
    "           'mycampaign-trafficking-analytics',\n",
    "           'mycampaign-goals-and-progres ']\n",
    "\n",
    "\n",
    "# Import my dataframe\n",
    "df_train = pd.read_csv('csv_data/nlp_models_data.csv')\n",
    "df_train['command'] = [x.lower() for x in df_train.command]\n",
    "df_train = df_train[df_train.context > 0]\n",
    "\n",
    "df_train.context = df_train.context - 1\n",
    "\n",
    "\n",
    "# Define train data\n",
    "X_train = df_train.command\n",
    "y_train_context = df_train.context\n",
    "y_train_action = df_train.action\n",
    "\n",
    "\n",
    "df_train.info()"
   ]
  },
  {
   "cell_type": "code",
   "execution_count": 28,
   "metadata": {},
   "outputs": [
    {
     "name": "stdout",
     "output_type": "stream",
     "text": [
      "<class 'pandas.core.frame.DataFrame'>\n",
      "RangeIndex: 6 entries, 0 to 5\n",
      "Data columns (total 3 columns):\n",
      " #   Column   Non-Null Count  Dtype \n",
      "---  ------   --------------  ----- \n",
      " 0   command  6 non-null      object\n",
      " 1   context  6 non-null      int64 \n",
      " 2   action   6 non-null      int64 \n",
      "dtypes: int64(2), object(1)\n",
      "memory usage: 272.0+ bytes\n"
     ]
    }
   ],
   "source": [
    "# Create test values:\n",
    "\n",
    "command = [\n",
    "        \"do a new campaign\",\n",
    "        \"show channel mix\",\n",
    "        \"add 26 mediarows\",\n",
    "        \"integration adserver\",\n",
    "        \"show google analtyics trafficking\",\n",
    "        \"show campaign performance\"\n",
    "        ]\n",
    "\n",
    "\n",
    "context = [\n",
    "        1,\n",
    "        2,\n",
    "        3,\n",
    "        4,\n",
    "        5,\n",
    "        6\n",
    "     ]\n",
    "\n",
    "\n",
    "action = [\n",
    "    1,\n",
    "    0,\n",
    "    1,\n",
    "    0,\n",
    "    0,\n",
    "    0\n",
    "]\n",
    "\n",
    "df_test = pd.DataFrame(\n",
    "    {'command':command,\n",
    "     'context': context,\n",
    "     'action':action}\n",
    ")\n",
    "\n",
    "\n",
    "df_test.context = df_test.context - 1\n",
    "X_test= df_test.command\n",
    "y_test_context = df_test.context\n",
    "y_test_action = df_test.action\n",
    "\n",
    "df_test.info()"
   ]
  },
  {
   "cell_type": "code",
   "execution_count": 40,
   "metadata": {},
   "outputs": [
    {
     "name": "stdout",
     "output_type": "stream",
     "text": [
      "<class 'pandas.core.frame.DataFrame'>\n",
      "RangeIndex: 6 entries, 0 to 5\n",
      "Data columns (total 3 columns):\n",
      " #   Column   Non-Null Count  Dtype \n",
      "---  ------   --------------  ----- \n",
      " 0   command  6 non-null      object\n",
      " 1   context  6 non-null      int64 \n",
      " 2   action   6 non-null      int64 \n",
      "dtypes: int64(2), object(1)\n",
      "memory usage: 272.0+ bytes\n"
     ]
    }
   ],
   "source": [
    "# PLANNING SPECIFIC DATAFRAME\n",
    "\n",
    "command = [\n",
    "        \"start a new campaign\",\n",
    "        \"create new campaign with search, social and dem channels\",\n",
    "        \"add a new mediarow for facebook and dv360 \",\n",
    "        \"add new media plan\",\n",
    "        \"generate new campaign\",\n",
    "        \"create new campaign with facebook, amazon, zemanta and google ads\"\n",
    "        ]\n",
    "\n",
    "\n",
    "context = [\n",
    "        3,\n",
    "        3,\n",
    "        3,\n",
    "        3,\n",
    "        3,\n",
    "        3\n",
    "     ]\n",
    "\n",
    "\n",
    "action = [\n",
    "    1,\n",
    "    1,\n",
    "    1,\n",
    "    1,\n",
    "    1,\n",
    "    1\n",
    "]\n",
    "\n",
    "df_ner = pd.DataFrame(\n",
    "    {'command':command,\n",
    "     'context': context,\n",
    "     'action':action}\n",
    ")\n",
    "\n",
    "\n",
    "df_ner.context = df_test.context - 1\n",
    "X_test_NER= df_ner.command\n",
    "y_test_NER = df_ner.context\n",
    "y_test_NER = df_ner.action\n",
    "\n",
    "df_ner.info()"
   ]
  },
  {
   "attachments": {},
   "cell_type": "markdown",
   "metadata": {},
   "source": [
    "# CONTEXT RECOGNITION MODEL"
   ]
  },
  {
   "cell_type": "code",
   "execution_count": 30,
   "metadata": {},
   "outputs": [
    {
     "name": "stdout",
     "output_type": "stream",
     "text": [
      "accuracy 0.8333333333333334\n",
      "              precision    recall  f1-score   support\n",
      "\n",
      "           0       0.00      0.00      0.00         1\n",
      "           1       1.00      1.00      1.00         1\n",
      "           2       0.50      1.00      0.67         1\n",
      "           3       1.00      1.00      1.00         1\n",
      "           4       1.00      1.00      1.00         1\n",
      "           5       1.00      1.00      1.00         1\n",
      "\n",
      "    accuracy                           0.83         6\n",
      "   macro avg       0.75      0.83      0.78         6\n",
      "weighted avg       0.75      0.83      0.78         6\n",
      "\n"
     ]
    },
    {
     "name": "stderr",
     "output_type": "stream",
     "text": [
      "/opt/anaconda3/lib/python3.9/site-packages/sklearn/metrics/_classification.py:1334: UndefinedMetricWarning: Precision and F-score are ill-defined and being set to 0.0 in labels with no predicted samples. Use `zero_division` parameter to control this behavior.\n",
      "  _warn_prf(average, modifier, msg_start, len(result))\n",
      "/opt/anaconda3/lib/python3.9/site-packages/sklearn/metrics/_classification.py:1334: UndefinedMetricWarning: Precision and F-score are ill-defined and being set to 0.0 in labels with no predicted samples. Use `zero_division` parameter to control this behavior.\n",
      "  _warn_prf(average, modifier, msg_start, len(result))\n",
      "/opt/anaconda3/lib/python3.9/site-packages/sklearn/metrics/_classification.py:1334: UndefinedMetricWarning: Precision and F-score are ill-defined and being set to 0.0 in labels with no predicted samples. Use `zero_division` parameter to control this behavior.\n",
      "  _warn_prf(average, modifier, msg_start, len(result))\n"
     ]
    }
   ],
   "source": [
    "### BASELINE MODEL: NAIVE BAYES\n",
    "\n",
    "nb = Pipeline([('vect', CountVectorizer()),\n",
    "               ('tfidf', TfidfTransformer()),\n",
    "               ('clf', MultinomialNB()),\n",
    "              ])\n",
    "nb.fit(X_train, y_train_context)\n",
    "\n",
    "y_pred = nb.predict(X_test)\n",
    "\n",
    "print('accuracy %s' % accuracy_score(y_pred, y_test_context))\n",
    "print(classification_report(y_test_context, y_pred))"
   ]
  },
  {
   "cell_type": "code",
   "execution_count": 31,
   "metadata": {},
   "outputs": [
    {
     "name": "stdout",
     "output_type": "stream",
     "text": [
      "accuracy 0.8333333333333334\n",
      "accuracy on train 1.0\n",
      "              precision    recall  f1-score   support\n",
      "\n",
      "           0       0.00      0.00      0.00         1\n",
      "           1       1.00      1.00      1.00         1\n",
      "           2       0.50      1.00      0.67         1\n",
      "           3       1.00      1.00      1.00         1\n",
      "           4       1.00      1.00      1.00         1\n",
      "           5       1.00      1.00      1.00         1\n",
      "\n",
      "    accuracy                           0.83         6\n",
      "   macro avg       0.75      0.83      0.78         6\n",
      "weighted avg       0.75      0.83      0.78         6\n",
      "\n",
      "              precision    recall  f1-score   support\n",
      "\n",
      "           0       1.00      1.00      1.00        30\n",
      "           1       1.00      1.00      1.00        35\n",
      "           2       1.00      1.00      1.00        44\n",
      "           3       1.00      1.00      1.00        23\n",
      "           4       1.00      1.00      1.00        17\n",
      "           5       1.00      1.00      1.00        29\n",
      "           6       1.00      1.00      1.00        12\n",
      "\n",
      "    accuracy                           1.00       190\n",
      "   macro avg       1.00      1.00      1.00       190\n",
      "weighted avg       1.00      1.00      1.00       190\n",
      "\n"
     ]
    },
    {
     "name": "stderr",
     "output_type": "stream",
     "text": [
      "/opt/anaconda3/lib/python3.9/site-packages/sklearn/metrics/_classification.py:1334: UndefinedMetricWarning: Precision and F-score are ill-defined and being set to 0.0 in labels with no predicted samples. Use `zero_division` parameter to control this behavior.\n",
      "  _warn_prf(average, modifier, msg_start, len(result))\n",
      "/opt/anaconda3/lib/python3.9/site-packages/sklearn/metrics/_classification.py:1334: UndefinedMetricWarning: Precision and F-score are ill-defined and being set to 0.0 in labels with no predicted samples. Use `zero_division` parameter to control this behavior.\n",
      "  _warn_prf(average, modifier, msg_start, len(result))\n",
      "/opt/anaconda3/lib/python3.9/site-packages/sklearn/metrics/_classification.py:1334: UndefinedMetricWarning: Precision and F-score are ill-defined and being set to 0.0 in labels with no predicted samples. Use `zero_division` parameter to control this behavior.\n",
      "  _warn_prf(average, modifier, msg_start, len(result))\n"
     ]
    }
   ],
   "source": [
    "# Standard Gradient Descent Model (SVM)\n",
    "\n",
    "from sklearn.linear_model import SGDClassifier\n",
    "\n",
    "sgd_context = Pipeline([('vect', CountVectorizer()),\n",
    "                ('tfidf', TfidfTransformer()),\n",
    "                ('clf', SGDClassifier(loss='hinge', penalty='l2',alpha=1e-3, random_state=42, max_iter=10000, tol=None)),\n",
    "               ])\n",
    "sgd_context.fit(X_train, y_train_context)\n",
    "\n",
    "\n",
    "y_pred_context = sgd_context.predict(X_test)\n",
    "y_train_pred_context = sgd_context.predict(X_train)\n",
    "\n",
    "print('accuracy %s' % accuracy_score(y_pred, y_test_context))\n",
    "print('accuracy on train %s' % accuracy_score(y_train_pred_context, y_train_context))\n",
    "print(classification_report(y_test_context, y_pred))\n",
    "print(classification_report(y_train_context, y_train_pred_context))"
   ]
  },
  {
   "attachments": {},
   "cell_type": "markdown",
   "metadata": {},
   "source": [
    "# ACTION RECOGNITION MODEL"
   ]
  },
  {
   "cell_type": "code",
   "execution_count": 32,
   "metadata": {},
   "outputs": [
    {
     "name": "stdout",
     "output_type": "stream",
     "text": [
      "accuracy 1.0\n",
      "accuracy on train 0.9947368421052631\n",
      "              precision    recall  f1-score   support\n",
      "\n",
      "           0       1.00      1.00      1.00         4\n",
      "           1       1.00      1.00      1.00         2\n",
      "\n",
      "    accuracy                           1.00         6\n",
      "   macro avg       1.00      1.00      1.00         6\n",
      "weighted avg       1.00      1.00      1.00         6\n",
      "\n",
      "              precision    recall  f1-score   support\n",
      "\n",
      "           0       1.00      0.99      1.00       129\n",
      "           1       0.98      1.00      0.99        61\n",
      "\n",
      "    accuracy                           0.99       190\n",
      "   macro avg       0.99      1.00      0.99       190\n",
      "weighted avg       0.99      0.99      0.99       190\n",
      "\n"
     ]
    }
   ],
   "source": [
    "# Standard Gradient Descent Model\n",
    "\n",
    "from sklearn.linear_model import SGDClassifier\n",
    "\n",
    "sgd_action = Pipeline([('vect', CountVectorizer()),\n",
    "                ('tfidf', TfidfTransformer()),\n",
    "                ('clf', SGDClassifier(loss='hinge', penalty='l2',alpha=1e-3, random_state=42, max_iter=10000, tol=None)),\n",
    "               ])\n",
    "sgd_action.fit(X_train, y_train_action)\n",
    "\n",
    "\n",
    "y_pred_action = sgd_action.predict(X_test)\n",
    "y_train_pred_action = sgd_action.predict(X_train)\n",
    "\n",
    "print('accuracy %s' % accuracy_score(y_pred_action, y_test_action))\n",
    "print('accuracy on train %s' % accuracy_score(y_train_pred_action, y_train_action))\n",
    "print(classification_report(y_test_action, y_pred_action))\n",
    "print(classification_report(y_train_action, y_train_pred_action))"
   ]
  },
  {
   "attachments": {},
   "cell_type": "markdown",
   "metadata": {},
   "source": [
    "# CUSTOM NER MODEL"
   ]
  },
  {
   "cell_type": "code",
   "execution_count": 33,
   "metadata": {},
   "outputs": [
    {
     "name": "stdout",
     "output_type": "stream",
     "text": [
      "ORIGINAL COMMAND: start a new campaign\n",
      "\n",
      "start CHANNEL\n",
      "campaign GRANULARITY\n",
      "-------------------------------------------------\n",
      "ORIGINAL COMMAND: create new campaign with search, social and dem channels\n",
      "\n",
      "create ACTION\n",
      "campaign GRANULARITY\n",
      "search CHANNEL\n",
      "social CHANNEL\n",
      "dem CHANNEL\n",
      "channels GRANULARITY\n",
      "-------------------------------------------------\n",
      "ORIGINAL COMMAND: add a new mediarow for facebook and dv360 \n",
      "\n",
      "add ACTION\n",
      "mediarow GRANULARITY\n",
      "facebook PLATFORM\n",
      "dv360 PLATFORM\n",
      "-------------------------------------------------\n",
      "ORIGINAL COMMAND: add new media plan\n",
      "\n",
      "add ACTION\n",
      "media plan GRANULARITY\n",
      "-------------------------------------------------\n",
      "ORIGINAL COMMAND: generate new campaign\n",
      "\n",
      "generate ACTION\n",
      "campaign GRANULARITY\n",
      "-------------------------------------------------\n",
      "ORIGINAL COMMAND: create new campaign with facebook, amazon, zemanta and google ads\n",
      "\n",
      "create ACTION\n",
      "campaign GRANULARITY\n",
      "facebook PLATFORM\n",
      "amazon PLATFORM\n",
      "zemanta PLATFORM\n",
      "google ads PLATFORM\n",
      "-------------------------------------------------\n"
     ]
    }
   ],
   "source": [
    "# Load custom trained model for M1 NER \n",
    "ner_model = spacy.load('NER/output/model-best')\n",
    "\n",
    "\n",
    "for cmd in X_test_NER:\n",
    "    \n",
    "    print(f'ORIGINAL COMMAND: {cmd}')\n",
    "    print('')\n",
    "    \n",
    "    # Perform NER\n",
    "    res = ner_model(cmd)\n",
    "\n",
    "    \n",
    "    for word in res.ents:\n",
    "        print(word.text,word.label_)\n",
    "    \n",
    "    print('-------------------------------------------------')\n",
    "    "
   ]
  },
  {
   "attachments": {},
   "cell_type": "markdown",
   "metadata": {},
   "source": [
    "# FULL ASSISTANT PIPELINE (DEMO)"
   ]
  },
  {
   "cell_type": "code",
   "execution_count": 34,
   "metadata": {},
   "outputs": [],
   "source": [
    "# Interaction actions list\n",
    "interact_actions = {\n",
    "    \n",
    "    'create':[\n",
    "        'implement','create','generate',\n",
    "        'do','build','make','start',\n",
    "        'initialize'\n",
    "        ],\n",
    "    'modify':[\n",
    "         'add','expand','remove','copy',\n",
    "         'cut','duplicate','allocate'\n",
    "         ],\n",
    "     'decision':[\n",
    "          'export','accept',\n",
    "          'reject','decline'\n",
    "     ]}\n",
    "\n",
    "# Showing Actions list\n",
    "show_action = [\n",
    "    'display','exhibit','show',\n",
    "     'expose','go','reveal',\n",
    "     'unveil','what',\"what's\",\n",
    "     'how',\"how's\",'see'\n",
    "]\n",
    "\n",
    "# Trigger actions list\n",
    "trigger_actions = [\n",
    "    'launch','trigger','run','suggest'\n",
    "]\n",
    "\n",
    "\n",
    "context_mapping = {\n",
    "    0:'mycampaign-main_page',\n",
    "    1:'mycampaign-mediamix',\n",
    "    2:'mycampaign-planning',\n",
    "    3:'mycampaign-trafficking-adserver',\n",
    "    4:'mycampaign-trafficking-analytics',\n",
    "    5:'mycampaign-goals-and-progres ',\n",
    "    6:'notifications-recommendations'\n",
    "}\n",
    "\n",
    "\n",
    "action_mapping = {\n",
    "    0:'show',\n",
    "    1:'interact'\n",
    "}"
   ]
  },
  {
   "cell_type": "code",
   "execution_count": 36,
   "metadata": {},
   "outputs": [
    {
     "name": "stdout",
     "output_type": "stream",
     "text": [
      "{'context': 'mycampaign-planning', 'action': 'interact', 'TAG MAPPING': [('create', 'ACTION'), ('mediarow', 'GRANULARITY'), ('facebook', 'PLATFORM')]}\n"
     ]
    }
   ],
   "source": [
    "cmd = \"Create new mediarow with facebook\"\n",
    "\n",
    "# CONTEXT AND ACTION IDENTIFICATION\n",
    "cmd = cmd.lower()\n",
    "\n",
    "X = pd.Series(cmd)\n",
    "  \n",
    "# context Model output\n",
    "y_context = sgd_context.predict(X)\n",
    "# action model output\n",
    "y_action = sgd_action.predict(X)\n",
    "# NER tagging\n",
    "tags = [(word.text,word.label_) for word in ner_model(cmd).ents]\n",
    "\n",
    "# String mapped\n",
    "context_str = context_mapping[y_context[0]]\n",
    "action_str = action_mapping[y_action[0]]\n",
    "\n",
    "output = {\n",
    "    'context':context_str,\n",
    "    'action':action_str,\n",
    "    'tag_mapping':tags\n",
    "}\n",
    "\n",
    "print(output)"
   ]
  },
  {
   "attachments": {},
   "cell_type": "markdown",
   "metadata": {},
   "source": [
    "# SAVE MODELS"
   ]
  },
  {
   "cell_type": "code",
   "execution_count": 39,
   "metadata": {},
   "outputs": [
    {
     "data": {
      "text/plain": [
       "['ActionRecognition/sgd_action.joblib']"
      ]
     },
     "execution_count": 39,
     "metadata": {},
     "output_type": "execute_result"
    }
   ],
   "source": [
    "# Context Recognition\n",
    "joblib.dump(sgd_context, \"ContextRecognition/sgd_context.joblib\")\n",
    "\n",
    "# Action Recognition\n",
    "joblib.dump(sgd_context, \"ActionRecognition/sgd_action.joblib\")\n",
    "\n"
   ]
  }
 ],
 "metadata": {
  "kernelspec": {
   "display_name": "base",
   "language": "python",
   "name": "python3"
  },
  "language_info": {
   "codemirror_mode": {
    "name": "ipython",
    "version": 3
   },
   "file_extension": ".py",
   "mimetype": "text/x-python",
   "name": "python",
   "nbconvert_exporter": "python",
   "pygments_lexer": "ipython3",
   "version": "3.9.12"
  },
  "orig_nbformat": 4,
  "vscode": {
   "interpreter": {
    "hash": "40d3a090f54c6569ab1632332b64b2c03c39dcf918b08424e98f38b5ae0af88f"
   }
  }
 },
 "nbformat": 4,
 "nbformat_minor": 2
}
